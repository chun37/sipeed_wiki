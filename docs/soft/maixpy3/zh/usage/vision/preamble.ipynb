{
 "cells": [
  {
   "cell_type": "markdown",
   "id": "79953a5a",
   "metadata": {},
   "source": [
    "# 传统视觉算法 序言\n"
   ]
  },
  {
   "cell_type": "markdown",
   "id": "3d2e9bcf",
   "metadata": {},
   "source": [
    "## 版权所有\n",
    "\n",
    "| 更新时间 | 负责人 | 内容 | 备注 |\n",
    "| --- | --- | --- | --- |\n",
    "| 2022年1月4日 | dianjixz | 初次编写文档 | --- |\n",
    "| 2022年1月18日 | dianjixz | 修订文档文档 | 使用 Jupyter notebook 进行编写文档 |\n",
    "\n",
    "该文档为深圳矽速科技有限公司所有，在该公司允许以及遵循开源协议的情况下，允许对其转载复制传播。\n",
    "\n",
    "\n",
    "## 软件提要\n",
    "\n",
    "- 该软件是 maixpy 的继承者与发展者，maixpy3 软件的诞生标志这 maixpy 从单一的传统机器视觉迈向了具有 AI 加持的现代机器视觉。\n",
    "\n",
    "- 该软件体系的使用适合对现代嵌入式机器视觉具有热爱的人。\n",
    "\n",
    "- 该软件体系的使用适合对现代嵌入式机器视觉设备具有落地期望的公司和个人。\n",
    "\n",
    "- 该软件体系的使用适合对现代嵌入式机器视觉的核心算法具有热爱的人。\n",
    "\n",
    "## 软件的长期规划目标\n",
    "\n",
    "做成 AI 领域中的 openmv 。\n",
    "\n",
    "\n",
    "## 本文档的目的\n",
    "\n",
    "本文档不是以教大家如何学习传统机器视觉的文档，而是在大家有机器视觉基础之上能够快速掌握 maixpy3 软件的使用为目的而编写的。  \n",
    "\n",
    "如果大家对文档中的一些说法有什么疑问或者不解，可以参考星瞳科技所作的 openmv 机器视觉入门文档。如果 API 有报错或者运行异常，可以进入论坛、qq 群等开发者反馈平台进行反馈。\n",
    "\n",
    "[openmv新手入门文档](https://book.openmv.cc/)  \n",
    "\n",
    "[https://book.openmv.cc/](https://book.openmv.cc/)  \n",
    "\n",
    "\n",
    "> **以下文章基于 MaixII-Dock 设备编写，适合在所有适配过 maixpy3 的设备上使用。**\n",
    "\n",
    "\n"
   ]
  }
 ],
 "metadata": {
  "kernelspec": {
   "display_name": "RPyc-Python",
   "language": "Python",
   "name": "rpyc"
  },
  "language_info": {
   "codemirror_mode": "python",
   "file_extension": ".py",
   "mimetype": "text/python",
   "name": "Python"
  }
 },
 "nbformat": 4,
 "nbformat_minor": 5
}
