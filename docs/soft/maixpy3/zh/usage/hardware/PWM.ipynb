{
 "cells": [
  {
   "cell_type": "markdown",
   "metadata": {},
   "source": [
    "---\n",
    "\n",
    "title: Linux PWM 的使用\n",
    "\n",
    "keywords: maixpy3, PWM, Linux\n",
    "\n",
    "desc: maixpy3 doc: PWM 的使用\n",
    "\n",
    "---"
   ]
  },
  {
   "cell_type": "markdown",
   "metadata": {},
   "source": [
    "| 更新时间 | 负责人 | 内容 | 备注 |\n",
    "| --- | --- | --- | --- |\n",
    "| 2022年1月4日 | Rui | 初次编写文档 | --- |\n",
    "| 2022年1月8日 | Rui | 修改文档的编写方式 | 使用 Jupyter notebook 进行编写文档 |\n",
    "| 2022年1月18日 | Rui | 修改文档，增加效果图 | 外设文档通过测试的平台有 MaixII-Dock,使用的是 MaixPy3 0.4.0 |\n",
    "\n",
    "\n",
    "MaixPy3 把 Linux 系统中的 PWM 的使用方法进行封装和简化使用，让用户使用起来更加的简单\n",
    "\n",
    "## 使用方式\n",
    "\n",
    "PWM 的使用方式和 GPIO 的类似，需要根据管脚定义图确定所使用的 PWM 通道序号，下面以 MaixII-Dock 为例子讲述如何使用 MaixPy3 中的 PWM \n",
    "\n",
    "### 准备\n",
    "\n",
    "查看开发板的管脚定义图，选择 PWM 输出通道序号，PWM-x 是指 PWM 的输出通道序号\n",
    "\n",
    "![MaixII-Dock 管脚图](./../asserts/M2Dock_pin.jpg)\n",
    "\n",
    "这里选择使用 PWM-6\n",
    "\n",
    "### 开始\n",
    "\n",
    "先将 PWM-6 实例化，设置周期和占空比，最后是使能 PWM，就可以输出了，具体代码看下面"
   ]
  },
  {
   "cell_type": "code",
   "execution_count": 1,
   "metadata": {},
   "outputs": [
    {
     "name": "stdout",
     "output_type": "stream",
     "text": [
      "[ rpyc-kernel ]( running at Mon Jan 17 16:58:42 2022 )\n"
     ]
    },
    {
     "data": {
      "text/plain": [
       "\r\n",
       "Traceback (most recent call last):\r\n",
       "  File \"<string>\", line unknown, in <module>\r\n",
       "Remote.KeyboardInterrupt\r\n"
      ]
     },
     "execution_count": 1,
     "metadata": {},
     "output_type": "execute_result"
    }
   ],
   "source": [
    "from maix import pwm\n",
    "\n",
    "pwm6 = pwm.PWM(6)\n",
    "pwm6.export()\n",
    "pwm6.period = 20000000  # 表示 pwm 的周期，单位 ns\n",
    "pwm6.duty_cycle = 500000  # 表示占空比，单位 ns\n",
    "pwm6.enable = True        # 表示是否使能 pwm\n",
    "for t in range (3):\n",
    "    for i in range(500000, 15000000, +100000):\n",
    "        pwm6.duty_cycle = i\n",
    "        time.sleep(0.05)\n",
    "    for i in range(15000000, 500000, -100000):\n",
    "        pwm6.duty_cycle = i\n",
    "        time.sleep(0.05)"
   ]
  },
  {
   "cell_type": "markdown",
   "metadata": {},
   "source": [
    "\n",
    "\n",
    "别的开发板使用方式是同样的流程，包括树莓派\n",
    "\n",
    "> 注明：\n",
    "> 建议小白使用在对应开发管脚定义图上的对应 PWM 通道，别的通道需要自行查看 [Linux PWM](https://www.baidu.com/s?ie=UTF-8&wd=Linux%20PWM) 使用方法。\n",
    "\n",
    "\n",
    "## PWM 用途\n",
    "\n",
    "1. 呼吸灯\n",
    "    \n",
    "    ![PWM](./../asserts/PWM.gif)\n",
    "2. PWM 可以作为电机驱动控制信号，驱动舵机。但是外接电机的时候需要做好电源隔离，不要直接将舵机接到开发板上，舵机产生的反向电流会把开发板上的芯片给击穿。\n",
    "\n",
    "    ![](./../asserts/PWM_1.gif)\n",
    "\n",
    "## 了解更多\n",
    "\n",
    "更多关于 Linux PWM 的可以查看大老鼠写的[博客](https://www.cnblogs.com/juwan/p/14343977.html)"
   ]
  }
 ],
 "metadata": {
  "kernelspec": {
   "display_name": "RPyc-Python",
   "language": "Python",
   "name": "rpyc"
  },
  "language_info": {
   "codemirror_mode": "python",
   "file_extension": ".py",
   "mimetype": "text/python",
   "name": "Python"
  }
 },
 "nbformat": 4,
 "nbformat_minor": 2
}
