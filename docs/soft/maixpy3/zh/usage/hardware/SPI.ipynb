{
 "cells": [
  {
   "cell_type": "markdown",
   "metadata": {},
   "source": [
    "---\n",
    "title: Linux SPI 的使用\n",
    "keywords: maixpy3, SPI, Linux\n",
    "desc: maixpy3 doc: SPI 的使用\n",
    "---"
   ]
  },
  {
   "cell_type": "markdown",
   "metadata": {},
   "source": [
    "| 更新时间 | 负责人 | 内容 | 备注 |\n",
    "| --- | --- | --- | --- |\n",
    "| 2022年1月4日 | Rui | 初次编写文档 | --- |\n",
    "| 2022年1月8日 | Rui | 修改文档的编写方式 | 使用 Jupyter notebook 进行编写文档 |\n",
    "| 2022年1月18日 | Rui | 修改文档，增加效果图 | 外设文档通过测试的平台有 MaixII-Dock，使用的是 MaixPy3 0.4.0 |\n",
    "\n",
    "## 使用教程\n",
    "\n",
    "在 Linux 系统中，SPI 是以设备的形式存在（/dev/spidevX.X），所使用的方式和原来的单片机方式有所不同。下面以 MaixII-Dock 为例子，来简单的简述一下如何使用 SPI。\n",
    "\n",
    "### 准备\n",
    "\n",
    "通过查看开发板的管脚定义图，确定自己使用的 SPI 通道序号，片选序号。\n",
    "\n",
    "\n",
    "### 开始\n",
    "\n",
    "![MaixII-Dock 管脚图](./../asserts/M2Dock_pin.jpg)\n",
    "\n",
    "以 MaixII-Dock 为例。查看 MaixII-Dock 管脚图，只引出了一个 SPI 通道，使用的是 SPI-1，片选0。使用代码为"
   ]
  },
  {
   "cell_type": "code",
   "execution_count": 1,
   "metadata": {},
   "outputs": [
    {
     "name": "stdout",
     "output_type": "stream",
     "text": [
      "[ rpyc-kernel ]( running at Mon Jan 17 17:13:45 2022 )\n",
      "[1, 2, 1]\n",
      "[1, 2, 1]\n",
      "[1, 2, 1]\n"
     ]
    }
   ],
   "source": [
    "from maix import spi\n",
    "spi = spi.SpiDev()\n",
    "spi.open(1, 0)\n",
    "spi.bits_per_word = 8\n",
    "spi.max_speed_hz = 1\n",
    "spi.mode = 0b11\n",
    "import time\n",
    "for i in range(3):\n",
    "  time.sleep(0.1)\n",
    "  to_send = [0x01, 0x02, 0x01]\n",
    "  print(spi.xfer2(to_send, 800000))"
   ]
  },
  {
   "cell_type": "markdown",
   "metadata": {},
   "source": [
    "通过短接 SPI 的 MOSI 和 MISO 进行通讯测试\n",
    "\n",
    "![](./../asserts/SPI.jpg)\n",
    "\n",
    "这里所使用的是标准 Python 中的 spidev 库，更多的使用方法可以查看 [Python spidev](https://www.baidu.com/s?ie=utf-8&wd=Python%20spidev)\n",
    "\n",
    "## 了解更多\n",
    "\n",
    "SPI 通信协议的[原理](https://zhuanlan.zhihu.com/p/139903418)\n",
    "\n",
    "关于 MaixII-Dock SPI 更多详情可以查看大佬鼠的博文[为 AW V831 配置 spidev 模块，使用 py-spidev 进行用户层的 SPI 通信。 ](https://www.cnblogs.com/juwan/p/14341406.html)"
   ]
  }
 ],
 "metadata": {
  "kernelspec": {
   "display_name": "RPyc-Python",
   "language": "Python",
   "name": "rpyc"
  }
 },
 "nbformat": 4,
 "nbformat_minor": 2
}
