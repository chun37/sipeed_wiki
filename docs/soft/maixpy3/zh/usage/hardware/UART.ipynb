{
 "cells": [
  {
   "cell_type": "markdown",
   "metadata": {},
   "source": [
    "---\n",
    "\n",
    "title: Linux UART 的使用\n",
    "\n",
    "keywords: maixpy3, UART, Linux\n",
    "\n",
    "desc: maixpy3 doc: UART 的使用\n",
    "\n",
    "---"
   ]
  },
  {
   "cell_type": "markdown",
   "metadata": {},
   "source": [
    "| 更新时间 | 负责人 | 内容 | 备注 |\n",
    "| --- | --- | --- | --- |\n",
    "| 2022年1月4日 | Rui | 初次编写文档 | --- |\n",
    "| 2022年1月8日 | Rui | 修改文档的编写方式 | 使用 Jupyter notebook 进行编写文档 |\n",
    "| 2022年1月18日 | Rui | 修改文档，增加效果图 | 外设文档通过测试的平台有 MaixII-Dock, 使用的是 MaixPy3 0.4.0 |\n",
    "\n",
    "\n",
    "## UART 使用教程\n",
    "\n",
    "在 Linux 系统中，串口是以设备的形式存在（/dev/ttyS*），所使用的方式和原来的单片机方式有所不同。这是系统标准的 UART 通讯，和 Linux 系统中的串口操作相似。下面以 MaixII-Dock 为例子，来简单的简述一下如何使用 UART。\n",
    "\n",
    "### 准备\n",
    "通过查看开发板的管脚定义图，确定需要使用的 UART 通道。下面的代码是使用 MaixII-Dock 的 UART-1 通道\n",
    "\n",
    "![MaixII-Dock 管脚图](./../asserts/M2Dock_pin.jpg)\n",
    "\n",
    "将 MaixII-Dock 上 UART-1 TX 和 UART-1 RX 短接即可进行串口通讯测试\n",
    "\n",
    "![](./../asserts/UART.jpg)\n",
    "\n",
    "\n",
    "### 开始\n",
    "\n",
    "运行下列代码，即可进行串口通讯，别的开发板用法同理"
   ]
  },
  {
   "cell_type": "code",
   "execution_count": 1,
   "metadata": {},
   "outputs": [
    {
     "name": "stdout",
     "output_type": "stream",
     "text": [
      "[ rpyc-kernel ]( running at Mon Jan 17 17:12:46 2022 )\n",
      "serial test start ...\n",
      "b'Hello Wrold !!!\\n'\n",
      "b'Hello Wrold !!!\\n'\n",
      "b'Hello Wrold !!!\\n'\n"
     ]
    }
   ],
   "source": [
    "import serial\n",
    "ser = serial.Serial(\"/dev/ttyS1\",115200)    # 连接串口\n",
    "print('serial test start ...')              \n",
    "ser.write(b\"Hello Wrold !!!\\n\")             # 输入需要通讯的内容\n",
    "for i in range(3):\n",
    "    ser.setDTR(True)                        \n",
    "    ser.setRTS(True)\n",
    "    tmp = ser.readline()\n",
    "    print(tmp)\n",
    "    ser.write(tmp)\n",
    "    ser.setDTR(False)\n",
    "    ser.setRTS(False)"
   ]
  },
  {
   "cell_type": "markdown",
   "metadata": {},
   "source": [
    "代码中的 `/dev/ttyS1` 是指串口通道1，不同的开发板，串口的表示方式不一样，请自行查看对应开发板的串口表达方式\n",
    "\n",
    "这是标准 Python 的串口库，更多的使用查看 [Python serial](https://pypi.org/project/pyserial/)\n",
    "\n",
    "## UART 用途\n",
    "\n",
    "这是操作系统的标准 URAT，可以和单片机进行串口通讯，也可以对带有串口协议的设备、外设通讯。"
   ]
  }
 ],
 "metadata": {
  "kernelspec": {
   "display_name": "RPyc-Python",
   "language": "Python",
   "name": "rpyc"
  }
 },
 "nbformat": 4,
 "nbformat_minor": 2
}
