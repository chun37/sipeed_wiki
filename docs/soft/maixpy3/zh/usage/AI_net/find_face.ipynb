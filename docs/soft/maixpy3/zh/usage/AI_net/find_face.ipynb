{
 "cells": [
  {
   "cell_type": "markdown",
   "metadata": {},
   "source": [
    "# 人脸检测"
   ]
  },
  {
   "cell_type": "markdown",
   "metadata": {},
   "source": [
    "| 更新时间 | 负责人 | 内容 | 备注 |\n",
    "| --- | --- | --- | --- |\n",
    "| 2021年12月2日 | Rui | 初次编写文档 | ---- |\n",
    "| 2022年12月15日 | Rui | 修改文档的编写方式 | 使用 Jupyter notebook 进行编写文档 |\n",
    "| 2022年1月18日 | Rui | 修改文档，增加效果图 | 通过测试的平台有 MaixII-Dock，使用的是 MaixPy3 0.4.0 |\n",
    "\n",
    "## 运行效果\n",
    "\n",
    "<iframe src=\"//player.bilibili.com/player.html?aid=720490332&bvid=BV15Q4y1r7HV&cid=405128041&page=1\" scrolling=\"no\" border=\"0\" frameborder=\"no\" framespacing=\"0\" allowfullscreen=\"true\"> </iframe>\n",
    "\n",
    "## 准备\n",
    "\n",
    "- 在 [MaixHub](https://www.maixhub.com/modelInfo?modelId=24) 上获取模型文件和运行源码（最新版本的系统内置了模型文件 `/home/model/sobel_int8.*`）\n",
    "- 确认 MaixPy3 版本为 0.4.0 以上\n",
    "- 使用的硬件为 MaixII-Dock\n",
    "- 内存卡内是最新版本的镜像系统\n",
    "- 插卡启动硬件\n",
    "\n",
    "## 运行开始人脸检测\n",
    "\n",
    "读取人脸检测模型文件，并部署到 MaixII-Dock 上"
   ]
  },
  {
   "cell_type": "code",
   "execution_count": 1,
   "metadata": {},
   "outputs": [
    {
     "name": "stdout",
     "output_type": "stream",
     "text": [
      "[ rpyc-kernel ]( running at Wed Jan 19 19:29:07 2022 )\n",
      "<rpyc.core.protocol.face object at 0x119aed8>\n"
     ]
    }
   ],
   "source": [
    "class face:\n",
    "    labels = [\"person\"]\n",
    "    anchors = [1.19, 1.98, 2.79, 4.59, 4.53, 8.92, 8.06, 5.29, 10.32, 10.65]\n",
    "    m = {\n",
    "        \"param\": \"/home/model/face/yolo2_face_awnn.param\",\n",
    "        \"bin\": \"/home/model/face/yolo2_face_awnn.bin\"\n",
    "    }\n",
    "    options = {\n",
    "        \"model_type\":  \"awnn\",\n",
    "        \"inputs\": {\n",
    "            \"input0\": (224, 224, 3)\n",
    "        },\n",
    "        \"outputs\": {\n",
    "            \"output0\": (7, 7, (1+4+1)*5)\n",
    "        },\n",
    "        \"mean\": [127.5, 127.5, 127.5],\n",
    "        \"norm\": [0.0078125, 0.0078125, 0.0078125],\n",
    "    }\n",
    "    def __init__(self):\n",
    "        from maix import nn\n",
    "        from maix.nn import decoder\n",
    "        self.model = nn.load(self.m, opt=self.options)\n",
    "        self.yolo = decoder.Yolo2(len(self.labels), self.anchors, net_in_size=(224, 224), net_out_size=(7, 7))\n",
    "        \n",
    "    def __del__(self):\n",
    "        del self.model\n",
    "        del self.yolo\n",
    "        \n",
    "global Face\n",
    "Face = face()\n",
    "print(Face)"
   ]
  },
  {
   "cell_type": "markdown",
   "metadata": {},
   "source": [
    "运行网络，进行人脸检测"
   ]
  },
  {
   "cell_type": "code",
   "execution_count": null,
   "metadata": {},
   "outputs": [
    {
     "name": "stdout",
     "output_type": "stream",
     "text": [
      "[ rpyc-kernel ]( running at Wed Jan 19 19:29:14 2022 )\n"
     ]
    }
   ],
   "source": [
    "from maix import camera, display, nn, image\n",
    "from maix.nn import decoder\n",
    "labels = [\"person\"]\n",
    "while True:\n",
    "    img = camera.capture().resize(224,224)\n",
    "    out = Face.model.forward(img.tobytes(), quantize=True, layout=\"hwc\")\n",
    "    boxes, probs = Face.yolo.run(out, nms=0.3, threshold=0.5, img_size=(224, 224))\n",
    "    if len(boxes):\n",
    "        for i, box in enumerate(boxes):\n",
    "            img.draw_rectangle(box[0], box[1], box[0]+box[2], box[1]+box[3], (255,0,0), 1)\n",
    "        display.show(img)\n",
    "    else:\n",
    "        display.show(img)"
   ]
  },
  {
   "cell_type": "markdown",
   "metadata": {},
   "source": [
    "> 以上代码均可以在 MaixPy3 IDE 上运行，完整的脚本源码可以到[ MaixPy3_scripts ](https://github.com/sipeed/MaixPy3_scripts/blob/master/scripts/nn_find_face.py)仓库中查看"
   ]
  }
 ],
 "metadata": {
  "kernelspec": {
   "display_name": "RPyc-Python",
   "language": "Python",
   "name": "rpyc"
  },
  "language_info": {
   "codemirror_mode": "python",
   "file_extension": ".py",
   "mimetype": "text/python",
   "name": "Python"
  }
 },
 "nbformat": 4,
 "nbformat_minor": 2
}
