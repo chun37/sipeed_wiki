{
 "cells": [
  {
   "cell_type": "markdown",
   "metadata": {},
   "source": [
    "# 人脸识别\n",
    "\n",
    "| 更新时间 | 负责人 | 内容 | 备注 |\n",
    "| --- | --- | --- | --- |\n",
    "| 2022年1月4日 | Rui | 初次编写文档 | ---- |\n",
    "| 2022年1月8日 | dianjixz | 修改文档的编写方式<br>调整[源码](https://github.com/sipeed/MaixPy3_scripts/blob/master/scripts/nn_face_recognition.py)结构<br>调整运行逻辑 | 使用 Jupyter notebook 进行编写文档 |\n",
    "| 2022年1月18日 | Rui | 修改文档，增加效果图 | 通过测试的平台有 MaixII-Dock，使用的是 MaixPy3 0.4.0 |\n",
    "\n",
    "## 运行效果\n",
    "\n",
    "<iframe src=\"//player.bilibili.com/player.html?aid=714915927&bvid=BV1MX4y1g7cE&cid=321380350&page=1\" scrolling=\"no\" border=\"0\" frameborder=\"no\" framespacing=\"0\" allowfullscreen=\"true\"> </iframe>\n",
    "\n",
    "## 准备\n",
    "\n",
    "- 在 [MaixHub](https://www.maixhub.com/modelInfo?modelId=24) 上获取模型文件和运行源码（最新版本的系统内置了模型文件 `/home/model/face_recognize/*`）\n",
    "- 确认 MaixPy3 版本为 0.4.0 以上\n",
    "- 使用的硬件为 MaixII-Dock\n",
    "- 内存卡内是最新版本的镜像系统\n",
    "- 插卡启动硬件\n",
    "\n",
    "## 人脸识别\n",
    "\n",
    "将模型读取到python环境中！"
   ]
  },
  {
   "cell_type": "code",
   "execution_count": 1,
   "metadata": {},
   "outputs": [
    {
     "name": "stdout",
     "output_type": "stream",
     "text": [
      "[ rpyc-kernel ]( running at Thu Jan 20 10:00:04 2022 )\n",
      "-- load model: {'param': '/home/model/face_recognize/model_int8.param', 'bin': '/home/model/face_recognize/model_int8.bin'}\n",
      "-- load ok\n",
      "-- load model: {'param': '/home/model/face_recognize/fe_res18_117.param', 'bin': '/home/model/face_recognize/fe_res18_117.bin'}\n",
      "-- load ok\n"
     ]
    }
   ],
   "source": [
    "class Face_recognize :\n",
    "    score_threshold = 70                            #识别分数阈值\n",
    "    input_size = (224, 224, 3)                      #输入图片尺寸\n",
    "    input_size_fe = (128, 128, 3)                   #输入人脸数据\n",
    "    feature_len = 256                               #人脸数据宽度\n",
    "    steps = [8, 16, 32]                             #\n",
    "    channel_num = 0                                 #通道数量\n",
    "    users = []                                      #初始化用户列表\n",
    "    threshold = 0.5                                         #人脸阈值\n",
    "    nms = 0.3                                               \n",
    "    max_face_num = 2                                        #输出的画面中的人脸的最大个数\n",
    "    names = [\"A\", \"B\", \"C\", \"D\", \"E\", \"F\", \"G\", \"H\", \"I\", \"J\", \"K\", \"L\", \"M\", \"N\", \"O\", \"P\", \"Q\", \"R\", \"S\", \"T\", \"U\", \"V\", \"W\", \"X\", \"Y\", \"Z\"]  #人脸标签定义\n",
    "    model = {                                                                                                                                   \n",
    "        \"param\": \"/home/model/face_recognize/model_int8.param\",\n",
    "        \"bin\": \"/home/model/face_recognize/model_int8.bin\"\n",
    "    }\n",
    "    model_fe = {\n",
    "        \"param\": \"/home/model/face_recognize/fe_res18_117.param\",\n",
    "        \"bin\": \"/home/model/face_recognize/fe_res18_117.bin\"\n",
    "    }\n",
    "    def __init__(self):\n",
    "        from maix import nn, camera, image, display\n",
    "        from maix.nn.app.face import FaceRecognize\n",
    "        for i in range(len(self.steps)):\n",
    "            self.channel_num += self.input_size[1] / self.steps[i] * (self.input_size[0] / self.steps[i]) * 2\n",
    "        self.channel_num = int(self.channel_num)     #统计通道数量\n",
    "        self.options = {                             #准备人脸输出参数\n",
    "            \"model_type\":  \"awnn\",\n",
    "            \"inputs\": {\n",
    "                \"input0\": self.input_size\n",
    "            },\n",
    "            \"outputs\": {\n",
    "                \"output0\": (1, 4, self.channel_num) ,\n",
    "                \"431\": (1, 2, self.channel_num) ,\n",
    "                \"output2\": (1, 10, self.channel_num) \n",
    "            },\n",
    "            \"mean\": [127.5, 127.5, 127.5],\n",
    "            \"norm\": [0.0078125, 0.0078125, 0.0078125],\n",
    "        }\n",
    "        self.options_fe = {                             #准备特征提取参数\n",
    "            \"model_type\":  \"awnn\",\n",
    "            \"inputs\": {\n",
    "                \"inputs_blob\": self.input_size_fe\n",
    "            },\n",
    "            \"outputs\": {\n",
    "                \"FC_blob\": (1, 1, self.feature_len)\n",
    "            },\n",
    "            \"mean\": [127.5, 127.5, 127.5],\n",
    "            \"norm\": [0.0078125, 0.0078125, 0.0078125],\n",
    "        }\n",
    "        print(\"-- load model:\", self.model)\n",
    "        self.m = nn.load(self.model, opt=self.options)\n",
    "        print(\"-- load ok\")\n",
    "        print(\"-- load model:\", self.model_fe)\n",
    "        self.m_fe = nn.load(self.model_fe, opt=self.options_fe)\n",
    "        print(\"-- load ok\")\n",
    "        self.face_recognizer = FaceRecognize(self.m, self.m_fe, self.feature_len, self.input_size, self.threshold, self.nms, self.max_face_num)\n",
    "\n",
    "    def map_face(self, box,points):                           #将224*224空间的位置转换到240*240空间内\n",
    "        def tran(x):\n",
    "            return int(x/224*240)\n",
    "        box = list(map(tran, box))\n",
    "        def tran_p(p):\n",
    "            return list(map(tran, p))\n",
    "        points = list(map(tran_p, points))\n",
    "        return box,points\n",
    "\n",
    "    def recognize(self, feature):                                                                   #进行人脸匹配\n",
    "        def _compare(user):                                                         #定义映射函数\n",
    "            return self.face_recognizer.compare(user, feature)                      #推测匹配分数 score相关分数\n",
    "        face_score_l = list(map(_compare,self.users))                               #映射特征数据在记录中的比对分数\n",
    "        return max(enumerate(face_score_l), key=lambda x: x[-1])                #提取出人脸分数最大值和最大值所在的位置\n",
    "\n",
    "    \n",
    "    \n",
    "    \n",
    "    def __del__(self):\n",
    "        del self.face_recognizer\n",
    "        del self.m_fe\n",
    "        del self.m\n",
    "\n",
    "global face_recognizer\n",
    "face_recognizer = Face_recognize()"
   ]
  },
  {
   "cell_type": "markdown",
   "metadata": {},
   "source": [
    "寻找人脸！"
   ]
  },
  {
   "cell_type": "code",
   "execution_count": 1,
   "metadata": {},
   "outputs": [
    {
     "data": {
      "image/jpeg": "[encoded data removed]"
     },
     "metadata": {},
     "output_type": "display_data"
    },
    {
     "data": {
      "text/plain": [
       "\r\n",
       "Traceback (most recent call last):\r\n",
       "  File \"<string>\", line unknown, in <module>\r\n",
       "Remote.KeyboardInterrupt\r\n"
      ]
     },
     "execution_count": 1,
     "metadata": {},
     "output_type": "execute_result"
    }
   ],
   "source": [
    "from maix import camera, image, display\n",
    "while True:\n",
    "    img = camera.capture()                       #获取224*224*3的图像数据\n",
    "    AI_img = img.copy().resize(224, 224)\n",
    "    faces = face_recognizer.face_recognizer.get_faces(AI_img.tobytes(),False)           #提取人脸特征信息\n",
    "    \n",
    "    if faces:\n",
    "        for prob, box, landmarks, feature in faces:\n",
    "            disp_str = \"no face\"\n",
    "            bg_color = (255, 0, 0)\n",
    "            font_color=(255, 255, 255)\n",
    "            box,points = face_recognizer.map_face(box,landmarks)\n",
    "            font_wh = img.get_string_size(disp_str)\n",
    "            for p in points:\n",
    "                img.draw_rectangle(p[0] - 1, p[1] -1, p[0] + 1, p[1] + 1, color=bg_color)\n",
    "            img.draw_rectangle(box[0], box[1], box[0] + box[2], box[1] + box[3], color=bg_color, thickness=2)\n",
    "            img.draw_rectangle(box[0], box[1] - font_wh[1], box[0] + font_wh[0], box[1], color=bg_color, thickness = -1)\n",
    "            img.draw_string(box[0], box[1] - font_wh[1], disp_str, color=font_color)\n",
    "    display.show(img)"
   ]
  },
  {
   "cell_type": "markdown",
   "metadata": {},
   "source": [
    "添加一张人脸！"
   ]
  },
  {
   "cell_type": "code",
   "execution_count": 1,
   "metadata": {},
   "outputs": [
    {
     "data": {
      "image/jpeg": "[encoded data removed]"
     },
     "metadata": {},
     "output_type": "display_data"
    }
   ],
   "source": [
    "from maix import camera, image, display\n",
    "face_flage = 1\n",
    "while face_flage:\n",
    "    img = camera.capture()                       #获取224*224*3的图像数据\n",
    "    AI_img = img.copy().resize(224, 224)\n",
    "    faces = face_recognizer.face_recognizer.get_faces(AI_img.tobytes(),False)           #提取人脸特征信息\n",
    "    \n",
    "    if faces:\n",
    "        for prob, box, landmarks, feature in faces:\n",
    "            if len(face_recognizer.users) < len(face_recognizer.names):\n",
    "                face_recognizer.users.append(feature)\n",
    "                face_flage = 0\n",
    "            else:\n",
    "                print(\"user full\")\n",
    "            disp_str = \"add face\"\n",
    "            bg_color = (255, 0, 0)\n",
    "            font_color=(255, 255, 255)\n",
    "            box,points = face_recognizer.map_face(box,landmarks)\n",
    "            font_wh = img.get_string_size(disp_str)\n",
    "            for p in points:\n",
    "                img.draw_rectangle(p[0] - 1, p[1] -1, p[0] + 1, p[1] + 1, color=bg_color)\n",
    "            img.draw_rectangle(box[0], box[1], box[0] + box[2], box[1] + box[3], color=bg_color, thickness=2)\n",
    "            img.draw_rectangle(box[0], box[1] - font_wh[1], box[0] + font_wh[0], box[1], color=bg_color, thickness = -1)\n",
    "            img.draw_string(box[0], box[1] - font_wh[1], disp_str, color=font_color)\n",
    "    display.show(img)"
   ]
  },
  {
   "cell_type": "markdown",
   "metadata": {},
   "source": [
    "删除一张人脸！"
   ]
  },
  {
   "cell_type": "code",
   "execution_count": null,
   "metadata": {},
   "outputs": [],
   "source": [
    "if len(face_recognizer.users) > 0:\n",
    "    print(\"remove user:\", face_recognizer.names[len(face_recognizer.users) - 1])\n",
    "    face_recognizer.users.pop()\n",
    "else:\n",
    "    print(\"user empty\")"
   ]
  },
  {
   "cell_type": "markdown",
   "metadata": {},
   "source": [
    "识别人脸！"
   ]
  },
  {
   "cell_type": "code",
   "execution_count": 1,
   "metadata": {},
   "outputs": [
    {
     "data": {
      "image/jpeg": "[encoded data removed]"
     },
     "metadata": {},
     "output_type": "display_data"
    },
    {
     "data": {
      "text/plain": [
       "\r\n",
       "Traceback (most recent call last):\r\n",
       "  File \"<string>\", line unknown, in <module>\r\n",
       "Remote.KeyboardInterrupt\r\n"
      ]
     },
     "execution_count": 1,
     "metadata": {},
     "output_type": "execute_result"
    }
   ],
   "source": [
    "from maix import camera, image, display\n",
    "\n",
    "\n",
    "\n",
    "\n",
    "while True:\n",
    "    img = camera.capture()                       #获取224*224*3的图像数据\n",
    "    AI_img = img.copy().resize(224, 224)\n",
    "    faces = face_recognizer.face_recognizer.get_faces(AI_img.tobytes(),False)           #提取人脸特征信息\n",
    "    \n",
    "    if faces:\n",
    "        for prob, box, landmarks, feature in faces:\n",
    "            if len(face_recognizer.users):                             #判断是否记录人脸\n",
    "                maxIndex = face_recognizer.recognize(feature)\n",
    "\n",
    "                if maxIndex[1] > face_recognizer.score_threshold:                                      #判断人脸识别阈值,当分数大于阈值时认为是同一张脸,当分数小于阈值时认为是相似脸\n",
    "                    disp_str = \"{}:{:.2f}\".format(face_recognizer.names[maxIndex[0]], maxIndex[1])\n",
    "                    bg_color = (0, 255, 0)\n",
    "                    font_color=(0, 0, 255)\n",
    "                    box,points = face_recognizer.map_face(box,landmarks)\n",
    "                    font_wh = img.get_string_size(disp_str)\n",
    "                    for p in points:\n",
    "                        img.draw_rectangle(p[0] - 1, p[1] -1, p[0] + 1, p[1] + 1, color=bg_color)\n",
    "                    img.draw_rectangle(box[0], box[1], box[0] + box[2], box[1] + box[3], color=bg_color, thickness=2)\n",
    "                    img.draw_rectangle(box[0], box[1] - font_wh[1], box[0] + font_wh[0], box[1], color=bg_color, thickness = -1)\n",
    "                    img.draw_string(box[0], box[1] - font_wh[1], disp_str, color=font_color)  \n",
    "                else:\n",
    "                    disp_str = \"{}:{:.2f}\".format(face_recognizer.names[maxIndex[0]], maxIndex[1])\n",
    "                    bg_color = (255, 0, 0)\n",
    "                    font_color=(255, 255, 255)\n",
    "                    box,points = face_recognizer.map_face(box,landmarks)\n",
    "                    font_wh = img.get_string_size(disp_str)\n",
    "                    for p in points:\n",
    "                        img.draw_rectangle(p[0] - 1, p[1] -1, p[0] + 1, p[1] + 1, color=bg_color)\n",
    "                    img.draw_rectangle(box[0], box[1], box[0] + box[2], box[1] + box[3], color=bg_color, thickness=2)\n",
    "                    img.draw_rectangle(box[0], box[1] - font_wh[1], box[0] + font_wh[0], box[1], color=bg_color, thickness = -1)\n",
    "                    img.draw_string(box[0], box[1] - font_wh[1], disp_str, color=font_color)  \n",
    "            else:                                           #没有记录脸                \n",
    "                disp_str = \"no face\"\n",
    "                bg_color = (255, 0, 0)\n",
    "                font_color=(255, 255, 255)\n",
    "                box,points = face_recognizer.map_face(box,landmarks)\n",
    "                font_wh = img.get_string_size(disp_str)\n",
    "                for p in points:\n",
    "                    img.draw_rectangle(p[0] - 1, p[1] -1, p[0] + 1, p[1] + 1, color=bg_color)\n",
    "                img.draw_rectangle(box[0], box[1], box[0] + box[2], box[1] + box[3], color=bg_color, thickness=2)\n",
    "                img.draw_rectangle(box[0], box[1] - font_wh[1], box[0] + font_wh[0], box[1], color=bg_color, thickness = -1)\n",
    "                img.draw_string(box[0], box[1] - font_wh[1], disp_str, color=font_color)\n",
    "    display.show(img)"
   ]
  },
  {
   "cell_type": "markdown",
   "metadata": {},
   "source": [
    "人脸保存！"
   ]
  },
  {
   "cell_type": "code",
   "execution_count": 1,
   "metadata": {},
   "outputs": [
    {
     "name": "stdout",
     "output_type": "stream",
     "text": [
      "[ rpyc-kernel ]( running at Wed Jan 19 18:13:25 2022 )\n"
     ]
    }
   ],
   "source": [
    "import pickle\n",
    "with open(\"/root/face_data.pickle\",'wb') as f:\n",
    "    pickle.dump(face_recognizer.users, f)"
   ]
  },
  {
   "cell_type": "markdown",
   "metadata": {},
   "source": [
    "加载人脸信息！"
   ]
  },
  {
   "cell_type": "code",
   "execution_count": null,
   "metadata": {},
   "outputs": [],
   "source": [
    "import pickle\n",
    "with open(\"/root/face_data.pickle\",'rb')as f:\n",
    "    face_recognizer.users = pickle.load(f)"
   ]
  },
  {
   "cell_type": "markdown",
   "metadata": {},
   "source": [
    "> 运行[完整脚本代码](https://github.com/sipeed/MaixPy3_scripts/blob/master/scripts/nn_face_recognition.py)可以通过按键控制多个人脸的信息添加、识别"
   ]
  }
 ],
 "metadata": {
  "kernelspec": {
   "display_name": "RPyc-Python",
   "language": "Python",
   "name": "rpyc"
  },
  "language_info": {
   "codemirror_mode": "python",
   "file_extension": ".py",
   "mimetype": "text/python",
   "name": "Python"
  }
 },
 "nbformat": 4,
 "nbformat_minor": 2
}
