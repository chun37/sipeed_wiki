{
 "cells": [
  {
   "cell_type": "markdown",
   "id": "282ac17d",
   "metadata": {},
   "source": [
    "# 自学习\n",
    "\n",
    "| 更新时间 | 负责人 | 内容 | 备注 |\n",
    "| --- | --- | --- | --- |\n",
    "| 2021年1月4日 | Rui | 初次编写文档 | ---- |\n",
    "| 2021年1月8日 | dianjixz | 修改文档的编写方式 | 使用 Jupyter notebook 进行编写文档 |\n",
    "| 2021年1月18日 | Rui | 修改文档，增加效果图 | 通过测试的平台有 MaixII-Dock，使用的是 MaixPy3 0.4.0 |\n",
    "\n",
    "## 运行效果\n",
    "\n",
    "<iframe src=\"//player.bilibili.com/player.html?aid=808318247&bvid=BV1C34y1i7QZ&cid=487776187&page=1\" scrolling=\"no\" border=\"0\" frameborder=\"no\" framespacing=\"0\" allowfullscreen=\"true\"> </iframe>\n",
    "\n",
    "## 准备\n",
    "\n",
    "- 在 [MaixHub](https://www.maixhub.com/modelInfo?modelId=24) 上获取模型文件和运行源码（最新版本的系统内置了模型文件 `/home/model/resnet18_1000_awnn*`）\n",
    "- 确认 MaixPy3 版本为 0.4.0 以上\n",
    "- 使用的硬件为 MaixII-Dock\n",
    "- 内存卡内是最新版本的镜像系统\n",
    "- 插卡启动硬件\n",
    "\n",
    "## 自学习训练与保存\n",
    "\n",
    "将模型读取到python环境中！"
   ]
  },
  {
   "cell_type": "code",
   "execution_count": 1,
   "id": "6bd5be92",
   "metadata": {},
   "outputs": [
    {
     "name": "stdout",
     "output_type": "stream",
     "text": [
      "[ rpyc-kernel ]( running at Wed Jan 19 15:42:31 2022 )\n",
      "-- load model: {'param': '/home/model/resnet18_1000_awnn.param', 'bin': '/home/model/resnet18_1000_awnn.bin'}\n",
      "-- load ok\n",
      "-- load classifier\n",
      "-- load ok\n"
     ]
    }
   ],
   "source": [
    "from maix import nn\n",
    "from maix import camera, display\n",
    "import time\n",
    "from maix.nn.app.classifier import Classifier\n",
    "\n",
    "class Self_learn:\n",
    "    model = {\n",
    "        \"param\": \"/home/model/resnet18_1000_awnn.param\",\n",
    "        \"bin\": \"/home/model/resnet18_1000_awnn.bin\"\n",
    "    }\n",
    "    options = {\n",
    "        \"model_type\":  \"awnn\",\n",
    "        \"inputs\": {\n",
    "            \"input0\": (224, 224, 3)\n",
    "        },\n",
    "        \"outputs\": {\n",
    "            \"190\": (1, 1, 512)\n",
    "        },\n",
    "        \"mean\": [127.5, 127.5, 127.5],\n",
    "        \"norm\": [0.0176, 0.0176, 0.0176],\n",
    "    }\n",
    "    class_num = 3  #学习类别\n",
    "    sample_num = 15  #学习类别总数量\n",
    "    curr_class = 0\n",
    "    curr_sample = 0    \n",
    "    def __init__(self):\n",
    "        from maix import nn\n",
    "        from maix.nn.app.classifier import Classifier\n",
    "        print(\"-- load model:\", self.model)\n",
    "        self.m = nn.load(self.model, opt=self.options)\n",
    "        print(\"-- load ok\")\n",
    "        print(\"-- load classifier\")\n",
    "        self.classifier = Classifier(self.m, self.class_num, self.sample_num, 512, 224, 224)\n",
    "        print(\"-- load ok\")\n",
    "global self_learn\n",
    "self_learn = Self_learn()"
   ]
  },
  {
   "cell_type": "markdown",
   "id": "049befb9",
   "metadata": {},
   "source": [
    "添加需要进行识别分类的类别，按下右键进行选择，可以添加3个类别"
   ]
  },
  {
   "cell_type": "code",
   "execution_count": 1,
   "id": "7c86599b",
   "metadata": {},
   "outputs": [
    {
     "name": "stdout",
     "output_type": "stream",
     "text": [
      "[ rpyc-kernel ]( running at Wed Jan 19 15:42:48 2022 )\n",
      "[camera] run config(size=(w, h)) before capture.\n",
      "[camera] config input size(240, 240)\n"
     ]
    }
   ],
   "source": [
    "import time\n",
    "from maix import nn\n",
    "from maix import camera, display\n",
    "for x in range(3):\n",
    "    t = time.time()\n",
    "    while True:\n",
    "        if (time.time() - t) > 2:\n",
    "            img = camera.capture()\n",
    "            AI_img = img.copy().resize(224, 224)\n",
    "            self_learn.classifier.add_class_img(AI_img.tobytes())\n",
    "            time.sleep(2)\n",
    "            break\n",
    "        img = camera.capture()\n",
    "    "
   ]
  },
  {
   "cell_type": "markdown",
   "id": "8d345a1c",
   "metadata": {},
   "source": [
    "给每个类别拍摄数据集，按下右键，分别拍摄5张图片依次拍摄，顺序和添加类别的相同"
   ]
  },
  {
   "cell_type": "code",
   "execution_count": 1,
   "id": "05562e81",
   "metadata": {},
   "outputs": [
    {
     "name": "stdout",
     "output_type": "stream",
     "text": [
      "[ rpyc-kernel ]( running at Wed Jan 19 15:43:11 2022 )\n"
     ]
    }
   ],
   "source": [
    "import time\n",
    "from maix import nn\n",
    "from maix import camera, display\n",
    "\n",
    "for x in range(3):\n",
    "    t = time.time()\n",
    "    while True:\n",
    "        if (time.time() - t) > 2:\n",
    "            for i in range(5):\n",
    "                img = camera.capture()\n",
    "                AI_img = img.copy().resize(224, 224)\n",
    "                self_learn.classifier.add_sample_img(AI_img.tobytes())\n",
    "            time.sleep(2)\n",
    "            break\n",
    "        img = camera.capture()\n",
    "        AI_img = img.copy().resize(224, 224)"
   ]
  },
  {
   "cell_type": "markdown",
   "id": "5cad8294",
   "metadata": {},
   "source": [
    "进行图片自学习"
   ]
  },
  {
   "cell_type": "code",
   "execution_count": 1,
   "id": "640a5dce",
   "metadata": {},
   "outputs": [
    {
     "name": "stdout",
     "output_type": "stream",
     "text": [
      "[ rpyc-kernel ]( running at Wed Jan 19 15:43:29 2022 )\n"
     ]
    }
   ],
   "source": [
    "self_learn.classifier.train()"
   ]
  },
  {
   "cell_type": "markdown",
   "id": "2044aa69",
   "metadata": {},
   "source": [
    "训练结束后保存模型"
   ]
  },
  {
   "cell_type": "code",
   "execution_count": 1,
   "id": "2ffd94dd",
   "metadata": {},
   "outputs": [
    {
     "name": "stdout",
     "output_type": "stream",
     "text": [
      "[ rpyc-kernel ]( running at Wed Jan 19 15:43:36 2022 )\n"
     ]
    }
   ],
   "source": [
    "self_learn.classifier.save(\"./module.bin\")"
   ]
  },
  {
   "cell_type": "markdown",
   "id": "895bdf2e",
   "metadata": {},
   "source": [
    "开始进行分类验证"
   ]
  },
  {
   "cell_type": "code",
   "execution_count": 1,
   "id": "f7db4d7d",
   "metadata": {},
   "outputs": [
    {
     "data": {
      "image/jpeg": "[encoded data removed]"
     },
     "metadata": {},
     "output_type": "display_data"
    },
    {
     "name": "stdout",
     "output_type": "stream",
     "text": [
      "predict class: 2, conf: 84\n"
     ]
    },
    {
     "data": {
      "text/plain": [
       "\r\n",
       "Traceback (most recent call last):\r\n",
       "  File \"<string>\", line unknown, in <module>\r\n",
       "Remote.KeyboardInterrupt\r\n"
      ]
     },
     "execution_count": 1,
     "metadata": {},
     "output_type": "execute_result"
    }
   ],
   "source": [
    "import time\n",
    "from maix import nn\n",
    "from maix import camera, display\n",
    "while True:\n",
    "    img = camera.capture()\n",
    "    AI_img = img.copy().resize(224, 224)\n",
    "    idx, distance = self_learn.classifier.predict(AI_img.tobytes())\n",
    "    msg = \"predict class: \" + str(idx+1) + \", conf: \" + str(100-distance)\n",
    "    print(msg)\n",
    "    img.draw_string(10, 10, msg, color = (255, 0, 0))  \n",
    "    display.show(img)"
   ]
  },
  {
   "cell_type": "markdown",
   "id": "b57a3934",
   "metadata": {},
   "source": [
    "## 自学习模型恢复"
   ]
  },
  {
   "cell_type": "code",
   "execution_count": 1,
   "id": "c4b7b5bd",
   "metadata": {},
   "outputs": [
    {
     "name": "stdout",
     "output_type": "stream",
     "text": [
      "[ rpyc-kernel ]( running at Wed Jan 19 15:44:46 2022 )\n",
      "-- load model: {'param': '/home/model/resnet18_1000_awnn.param', 'bin': '/home/model/resnet18_1000_awnn.bin'}\n",
      "-- load ok\n",
      "-- load classifier\n",
      "-- load ok\n"
     ]
    }
   ],
   "source": [
    "from maix import nn\n",
    "from maix import camera, display\n",
    "import time\n",
    "from maix.nn.app.classifier import Classifier\n",
    "from maix.nn.app.classifier import load\n",
    "\n",
    "class Self_learn:\n",
    "    model = {\n",
    "        \"param\": \"/home/model/resnet18_1000_awnn.param\",\n",
    "        \"bin\": \"/home/model/resnet18_1000_awnn.bin\"\n",
    "    }\n",
    "    options = {\n",
    "        \"model_type\":  \"awnn\",\n",
    "        \"inputs\": {\n",
    "            \"input0\": (224, 224, 3)\n",
    "        },\n",
    "        \"outputs\": {\n",
    "            \"190\": (1, 1, 512)\n",
    "        },\n",
    "        \"mean\": [127.5, 127.5, 127.5],\n",
    "        \"norm\": [0.0176, 0.0176, 0.0176],\n",
    "    }\n",
    "    class_num = 3  #学习类别\n",
    "    sample_num = 15  #学习类别总数量\n",
    "    curr_class = 0\n",
    "    curr_sample = 0    \n",
    "    def __init__(self):\n",
    "        from maix import nn\n",
    "        from maix.nn.app.classifier import Classifier        \n",
    "        from maix.nn.app.classifier import load\n",
    "        import os.path\n",
    "        if os.path.isfile(\"./module.bin\"):\n",
    "            print(\"-- load model:\", self.model)\n",
    "            self.m = nn.load(self.model, opt=self.options)\n",
    "            print(\"-- load ok\")\n",
    "            print(\"-- load classifier\")\n",
    "            self.classifier = load(self.m,\"./module.bin\")\n",
    "            print(\"-- load ok\")\n",
    "        else:\n",
    "            print(\"not have model!\")\n",
    "            print(\"please run nn_self_learn_classifier.py get model!\")\n",
    "\n",
    "        \n",
    "global self_learn\n",
    "self_learn = Self_learn()"
   ]
  },
  {
   "cell_type": "markdown",
   "id": "0f4cbf6b",
   "metadata": {},
   "source": [
    "自学习预测"
   ]
  },
  {
   "cell_type": "code",
   "execution_count": 1,
   "id": "98f19c56",
   "metadata": {},
   "outputs": [
    {
     "data": {
      "image/jpeg": "[encoded data removed]"
     },
     "metadata": {},
     "output_type": "display_data"
    },
    {
     "data": {
      "text/plain": [
       "\r\n",
       "Traceback (most recent call last):\r\n",
       "  File \"<string>\", line unknown, in <module>\r\n",
       "Remote.KeyboardInterrupt\r\n"
      ]
     },
     "execution_count": 1,
     "metadata": {},
     "output_type": "execute_result"
    }
   ],
   "source": [
    "import time\n",
    "from maix import nn\n",
    "from maix import camera, display\n",
    "while True:\n",
    "    img = camera.capture()\n",
    "    AI_img = img.copy().resize(224, 224)\n",
    "    idx, distance = self_learn.classifier.predict(AI_img.tobytes())\n",
    "    msg = \"predict class: \" + str(idx+1) + \", conf: \" + str(100-distance)\n",
    "#     print(msg)\n",
    "    img.draw_string(10, 10, msg, color = (255, 0, 0))  \n",
    "    display.show(img)"
   ]
  }
 ],
 "metadata": {
  "kernelspec": {
   "display_name": "RPyc-Python",
   "language": "Python",
   "name": "rpyc"
  },
  "language_info": {
   "codemirror_mode": "python",
   "file_extension": ".py",
   "mimetype": "text/python",
   "name": "Python"
  }
 },
 "nbformat": 4,
 "nbformat_minor": 5
}
